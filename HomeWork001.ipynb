{
 "cells": [
  {
   "cell_type": "markdown",
   "id": "261b754f",
   "metadata": {},
   "source": [
    "# Домашнее задание №1\n",
    "## Задание 1\n",
    "На складе лежат разные фрукты в разном количестве.\n",
    "Нужно написать функцию, которая на вход принимает любое количество названий фруктов и их количество, а возвращает общее количество фруктов на складе"
   ]
  },
  {
   "cell_type": "code",
   "execution_count": 1,
   "id": "8af2bb6e",
   "metadata": {},
   "outputs": [],
   "source": [
    "def sum_fruits (**kwargs):\n",
    "    return sum(kwargs.values())"
   ]
  },
  {
   "cell_type": "code",
   "execution_count": 2,
   "id": "f1edb9b0",
   "metadata": {},
   "outputs": [
    {
     "data": {
      "text/plain": [
       "'Всего фруктов: 20'"
      ]
     },
     "execution_count": 2,
     "metadata": {},
     "output_type": "execute_result"
    }
   ],
   "source": [
    "f\"Всего фруктов: {sum_fruits(mango=5,peach=6,plum=9)}\""
   ]
  },
  {
   "cell_type": "markdown",
   "id": "14e4663c",
   "metadata": {},
   "source": [
    "## Задание 2\n",
    "Дан список с затратами на рекламу. Но в данных есть ошибки, некоторые затраты имеют отрицательную величину. Удалите такие значения из списка и посчитайте суммарные затраты\n",
    "[100, 125, -90, 345, 655, -1, 0, 200]\n",
    "Используйте list comprehensions"
   ]
  },
  {
   "cell_type": "code",
   "execution_count": 3,
   "id": "7ca8ed00",
   "metadata": {},
   "outputs": [],
   "source": [
    "cost = [100, 125, -90, 345, 655, -1, 0, 200]"
   ]
  },
  {
   "cell_type": "code",
   "execution_count": 4,
   "id": "118b0ff0",
   "metadata": {},
   "outputs": [],
   "source": [
    "def del_neg (cost:list) -> list:\n",
    "    for i in cost:\n",
    "        if i < 0:\n",
    "            cost.remove(i)\n",
    "    return cost"
   ]
  },
  {
   "cell_type": "code",
   "execution_count": 5,
   "id": "66d42067",
   "metadata": {},
   "outputs": [],
   "source": [
    "result = [i for i in cost if i> 0]"
   ]
  },
  {
   "cell_type": "code",
   "execution_count": 6,
   "id": "a2d0c48b",
   "metadata": {},
   "outputs": [
    {
     "name": "stdout",
     "output_type": "stream",
     "text": [
      "Общие затраты: 1425\n",
      "------\n",
      "Общие затраты: 1425\n"
     ]
    }
   ],
   "source": [
    "print(f\"Общие затраты: {sum(result)}\")\n",
    "print(\"------\")\n",
    "print(f\"Общие затраты: {sum(del_neg(cost))}\")"
   ]
  },
  {
   "cell_type": "markdown",
   "id": "6eb4d86a",
   "metadata": {},
   "source": [
    "## Задание 3\n",
    "Даны два списка.\n",
    "Дата покупки\n",
    "\n",
    "['2021-09-14', '2021-12-15', '2021-09-08', '2021-12-05', '2021-10-09', '2021-09-30', '2021-12-22', '2021-11-29', '2021-12-24', '2021-11-26', '2021-10-27', '2021-12-18', '2021-11-09', '2021-11-23', '2021-09-27', '2021-10-02', '2021-12-27', '2021-09-20', '2021-12-13', '2021-11-01', '2021-11-09', '2021-12-06', '2021-12-08', '2021-10-09', '2021-10-31', '2021-09-30', '2021-11-09', '2021-12-13', '2021-10-26', '2021-12-09']\n",
    "\n",
    "Суммы покупок по датам\n",
    "\n",
    "[1270, 8413, 9028, 3703, 5739, 4095, 295, 4944, 5723, 3701, 4471, 651, 7037, 4274, 6275, 4988, 6930, 2971, 6592, 2004, 2822, 519, 3406, 2732, 5015, 2008, 316, 6333, 5700, 2887]\n",
    "\n",
    "### 4.1 Найдите, какая выручка у компании в ноябре"
   ]
  },
  {
   "cell_type": "code",
   "execution_count": 7,
   "id": "57867133",
   "metadata": {},
   "outputs": [],
   "source": [
    "date = ['2021-09-14', '2021-12-15', '2021-09-08', '2021-12-05', \n",
    "        '2021-10-09', '2021-09-30', '2021-12-22', '2021-11-29', \n",
    "        '2021-12-24', '2021-11-26', '2021-10-27', '2021-12-18', \n",
    "        '2021-11-09', '2021-11-23', '2021-09-27', '2021-10-02', \n",
    "        '2021-12-27', '2021-09-20', '2021-12-13', '2021-11-01', \n",
    "        '2021-11-09', '2021-12-06', '2021-12-08', '2021-10-09', \n",
    "        '2021-10-31', '2021-09-30', '2021-11-09', '2021-12-13', \n",
    "        '2021-10-26', '2021-12-09']\n",
    "purchase = [1270, 8413, 9028, 3703, 5739, 4095, 295, 4944, 5723, \n",
    "            3701, 4471, 651, 7037, 4274, 6275, 4988, 6930, 2971, \n",
    "            6592, 2004, 2822, 519, 3406, 2732, 5015, 2008, 316, \n",
    "            6333, 5700, 2887]"
   ]
  },
  {
   "cell_type": "code",
   "execution_count": 8,
   "id": "fd4f5b55",
   "metadata": {},
   "outputs": [],
   "source": [
    "def purchase_nov (date:list,purchase:list) -> int:\n",
    "    result_sum = 0;\n",
    "    for i in range(len(date)):\n",
    "        if '-11-' in date[i]:\n",
    "            result_sum+=purchase[i]\n",
    "    return result_sum"
   ]
  },
  {
   "cell_type": "code",
   "execution_count": 9,
   "id": "376f41fb",
   "metadata": {},
   "outputs": [
    {
     "data": {
      "text/plain": [
       "'Выручка за ноябрь: 25098'"
      ]
     },
     "execution_count": 9,
     "metadata": {},
     "output_type": "execute_result"
    }
   ],
   "source": [
    "f\"Выручка за ноябрь: {purchase_nov(date,purchase)}\""
   ]
  },
  {
   "cell_type": "markdown",
   "id": "7896a74d",
   "metadata": {},
   "source": [
    "### Используйте list comprehensions"
   ]
  },
  {
   "cell_type": "code",
   "execution_count": 10,
   "id": "cf0ee5f3",
   "metadata": {},
   "outputs": [
    {
     "data": {
      "text/plain": [
       "'Выручка за ноябрь: 25098'"
      ]
     },
     "execution_count": 10,
     "metadata": {},
     "output_type": "execute_result"
    }
   ],
   "source": [
    "f\"Выручка за ноябрь: {sum([purchase[i] for i in range(len(date)) if '-11-' in date[i]])}\""
   ]
  },
  {
   "cell_type": "markdown",
   "id": "6e549386",
   "metadata": {},
   "source": [
    "### 4.2 Найдите выручку компании в зависимости от месяца\n",
    "Для этого напишите функцию, которая на вход принимает список с датами и список с выручкой, а на выходе словарь, где ключи - это месяцы, а значения - это выручка.\n",
    "Используйте аннотирование типов."
   ]
  },
  {
   "cell_type": "code",
   "execution_count": 11,
   "id": "a544979b",
   "metadata": {},
   "outputs": [],
   "source": [
    "def purchase_month (date:list,purchase:list) -> dict:\n",
    "    list_month = [\"Январь\", \"Февраль\",\"Март\", \"Апрель\",\"Май\",\"Июнь\",\"Июль\",\"Август\",\"Сентябрь\",\"Октябрь\",\"Ноябрь\",\"Декабрь\"]\n",
    "    result = {}\n",
    "    for i in range(len(date)):\n",
    "        month = list_month[int(date[i].split('-')[1].lstrip('0'))-1]\n",
    "        if month in result:\n",
    "            result[month] += purchase[i]\n",
    "        else:\n",
    "            result[month] = purchase[i]\n",
    "    return result    "
   ]
  },
  {
   "cell_type": "code",
   "execution_count": 12,
   "id": "4f93945d",
   "metadata": {},
   "outputs": [
    {
     "data": {
      "text/plain": [
       "{'Сентябрь': 25647, 'Декабрь': 45452, 'Октябрь': 28645, 'Ноябрь': 25098}"
      ]
     },
     "execution_count": 12,
     "metadata": {},
     "output_type": "execute_result"
    }
   ],
   "source": [
    "purchase_month(date,purchase)"
   ]
  },
  {
   "cell_type": "code",
   "execution_count": null,
   "id": "0ac50b46",
   "metadata": {},
   "outputs": [],
   "source": []
  }
 ],
 "metadata": {
  "kernelspec": {
   "display_name": "Python 3 (ipykernel)",
   "language": "python",
   "name": "python3"
  },
  "language_info": {
   "codemirror_mode": {
    "name": "ipython",
    "version": 3
   },
   "file_extension": ".py",
   "mimetype": "text/x-python",
   "name": "python",
   "nbconvert_exporter": "python",
   "pygments_lexer": "ipython3",
   "version": "3.9.13"
  }
 },
 "nbformat": 4,
 "nbformat_minor": 5
}
